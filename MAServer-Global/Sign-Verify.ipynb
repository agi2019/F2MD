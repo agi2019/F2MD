{
 "cells": [
  {
   "cell_type": "code",
   "execution_count": 1,
   "metadata": {},
   "outputs": [],
   "source": [
    "currReporterTrust= [0.25,0.71,0.79,0.87,0.95,0.21,0.59,0.72,0.89,0.68,0.37,0.47,0.27,0.27,0.71,0.99,0.68,0.59,0.35,0.61,0.56,.79,0.69,\n",
    "0.79,0.04,0.96,0.43,0.77,0.99,0.73,0.91,0.03,0.25,0.72,0.77,0.23,0.33,0.43,0.47,0.06,0.76,0.19,0.97,0.23,0.38,0.28,0.46,0.30,0.31]"
   ]
  },
  {
   "cell_type": "code",
   "execution_count": 2,
   "metadata": {},
   "outputs": [],
   "source": [
    "from ecdsa import SigningKey\n",
    "sk = SigningKey.generate()\n",
    "vk = sk.verifying_key\n",
    "with open(\"private.pem\", \"wb\") as f:\n",
    "    f.write(sk.to_pem())\n",
    "with open(\"public.pem\", \"wb\") as f:\n",
    "    f.write(vk.to_pem())"
   ]
  },
  {
   "cell_type": "code",
   "execution_count": 3,
   "metadata": {},
   "outputs": [],
   "source": [
    "from ecdsa import SigningKey\n",
    "with open(\"private.pem\") as f:\n",
    "    sk = SigningKey.from_pem(f.read())\n",
    "with open(\"MDReport_V2_26-5387_10452_10331.rep\", \"rb\") as f:\n",
    "    message = f.read()\n",
    "sig = sk.sign(message)\n",
    "with open(\"MDReport_V2_26-5387_10452_10331.sign\", \"wb\") as f:\n",
    "    f.write(sig)"
   ]
  },
  {
   "cell_type": "code",
   "execution_count": null,
   "metadata": {},
   "outputs": [],
   "source": []
  },
  {
   "cell_type": "code",
   "execution_count": 6,
   "metadata": {},
   "outputs": [],
   "source": [
    "import json\n",
    "\n",
    "def decreaseReporterTrust():\n",
    "    with open(\"MDReport_V2_26-5387_10452_10331.rep\",\"r\") as fj:\n",
    "        reportList = json.load(fj)\n",
    "    reporterId = reportList['Report']['Metadata']['senderRealId']\n",
    "    print(\"sebelum:\",currReporterTrust[reporterId])\n",
    "    trust=currReporterTrust[reporterId]\n",
    "    if(trust>0.66):\n",
    "        currReporterTrust[reporterId] = (currReporterTrust[reporterId]-0.6)+0.3\n",
    "    #if(currReporterTrust<0.66 and currReporterTrust>0.32):\n",
    "    if(trust<0.33):\n",
    "        currReporterTrust[reporterId] = (currReporterTrust[reporterId]+(1-currReporterTrust[reporterId])*-0.3)\n",
    "    else:\n",
    "        currReporterTrust[reporterId] = (currReporterTrust[reporterId]-0.3)+0\n",
    "    if(trust<0):\n",
    "        currReporterTrust[reporterId] = 0\n",
    "    print(\"setelah:\",currReporterTrust[reporterId])\n",
    "                                         \n",
    "def increaseReporterTrust():\n",
    "    with open(\"MDReport_V2_26-5387_10452_10331.rep\",\"r\") as fj:\n",
    "        reportList = json.load(fj)\n",
    "    reporterId = reportList['Report']['Metadata']['senderRealId']\n",
    "    print(\"sebelum:\",currReporterTrust[reporterId])\n",
    "    trust=currReporterTrust[reporterId]\n",
    "    if(trust>0.66):\n",
    "        currReporterTrust[reporterId] = (currReporterTrust[reporterId]+(1-currReporterTrust[reporterId])*0.3)\n",
    "    if(trust<0.33):\n",
    "        currReporterTrust[reporterId] = (currReporterTrust[reporterId]-0)+0.3\n",
    "    #if(currReporterTrust[reporterId]<0.66 and currReporterTrust>=0.33):\n",
    "    else:\n",
    "        currReporterTrust[reporterId] = (currReporterTrust[reporterId]-0.3)+0.6\n",
    "\n",
    "    if(currReporterTrust[reporterId]>1):\n",
    "        currReporterTrust[reporterId] = 1                                 \n",
    "    print(\"setelah:\",currReporterTrust[reporterId])\n"
   ]
  },
  {
   "cell_type": "code",
   "execution_count": 7,
   "metadata": {},
   "outputs": [
    {
     "name": "stdout",
     "output_type": "stream",
     "text": [
      "Ditolak, turunkan trust pelapor\n",
      "sebelum: 0.28\n",
      "setelah: 0.06400000000000003\n"
     ]
    }
   ],
   "source": [
    "from ecdsa import VerifyingKey, BadSignatureError\n",
    "vk = VerifyingKey.from_pem(open(\"public.pem\").read())\n",
    "with open(\"MDReport_V2_26-5387_10452_10331.rep\", \"rb\") as f:\n",
    "    message = f.read()\n",
    "with open(\"MDReport_V2_26-5387_10452_10331.sign\", \"rb\") as f:\n",
    "    sig = f.read()\n",
    "try:\n",
    "    vk.verify(sig, message)\n",
    "    print(\"accepted, lanjutkan proses berikutnya\")\n",
    "    increaseReporterTrust() \n",
    "    \n",
    "except BadSignatureError:\n",
    "    print(\"Ditolak, turunkan trust pelapor\")\n",
    "    decreaseReporterTrust()"
   ]
  },
  {
   "cell_type": "code",
   "execution_count": null,
   "metadata": {},
   "outputs": [],
   "source": []
  }
 ],
 "metadata": {
  "kernelspec": {
   "display_name": "Python 3",
   "language": "python",
   "name": "python3"
  },
  "language_info": {
   "codemirror_mode": {
    "name": "ipython",
    "version": 3
   },
   "file_extension": ".py",
   "mimetype": "text/x-python",
   "name": "python",
   "nbconvert_exporter": "python",
   "pygments_lexer": "ipython3",
   "version": "3.6.9"
  }
 },
 "nbformat": 4,
 "nbformat_minor": 2
}
