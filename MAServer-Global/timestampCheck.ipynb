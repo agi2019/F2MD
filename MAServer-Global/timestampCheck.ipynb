{
 "cells": [
  {
   "cell_type": "code",
   "execution_count": 5,
   "metadata": {},
   "outputs": [],
   "source": [
    "import json\n",
    "currentTime=50\n",
    "currReporterTrust= [0.25,0.71,0.79,0.87,0.95,0.21,0.59,0.72,0.89,0.68,0.37,0.47,0.27,0.27,0.71,0.99,0.68,0.59,0.35,0.61,0.56,.79,0.69,\n",
    "0.79,0.04,0.96,0.43,0.77,0.99,0.73,0.91,0.03,0.25,0.72,0.77,0.23,0.33,0.43,0.47,0.06,0.76,0.19,0.97,0.23,0.38,0.28,0.46,0.30,0.31]"
   ]
  },
  {
   "cell_type": "code",
   "execution_count": 6,
   "metadata": {},
   "outputs": [],
   "source": [
    "import json\n",
    "def decreaseReporterTrust():\n",
    "    with open(\"MDReport_V2_26-5387_10452_10331.rep\",\"r\") as fj:\n",
    "        reportList = json.load(fj)\n",
    "    reporterId = reportList['Report']['Metadata']['senderRealId']\n",
    "    print(\"sebelum:\",currReporterTrust[reporterId])\n",
    "    trust=currReporterTrust[reporterId]\n",
    "    if(trust>0.66):\n",
    "        currReporterTrust[reporterId] = (currReporterTrust[reporterId]-0.6)+0.3\n",
    "    #if(currReporterTrust<0.66 and currReporterTrust>0.32):\n",
    "    if(trust<0.33):\n",
    "        currReporterTrust[reporterId] = (currReporterTrust[reporterId]+(1-currReporterTrust[reporterId])*-0.3)\n",
    "    else:\n",
    "        currReporterTrust[reporterId] = (currReporterTrust[reporterId]-0.3)+0\n",
    "    if(trust<0):\n",
    "        currReporterTrust[reporterId] = 0\n",
    "    print(\"setelah:\",currReporterTrust[reporterId])"
   ]
  },
  {
   "cell_type": "code",
   "execution_count": 7,
   "metadata": {},
   "outputs": [],
   "source": [
    "treshold=5\n",
    "def checkLifeTime(timeStamp):\n",
    "    deltaTime = currentTime - timeStamp\n",
    "    \n",
    "    if(deltaTime>treshold):\n",
    "        print(\"Turunkan Trust Reporter\")\n",
    "        decreaseReporterTrust()\n",
    "    else:\n",
    "        print(\"Lanjutkan pada pemeriksaan Signature\")"
   ]
  },
  {
   "cell_type": "code",
   "execution_count": 8,
   "metadata": {},
   "outputs": [
    {
     "name": "stdout",
     "output_type": "stream",
     "text": [
      "Turunkan Trust Reporter\n",
      "sebelum: 0.28\n",
      "setelah: 0.06400000000000003\n"
     ]
    }
   ],
   "source": [
    "with open(\"MDReport_V2_26-5387_10452_10331.rep\",\"r\") as fj:\n",
    "    reportList = json.load(fj)\n",
    "    \n",
    "timeStamp = reportList['Report']['Metadata']['generationTime']\n",
    "\n",
    "checkLifeTime(timeStamp)"
   ]
  },
  {
   "cell_type": "code",
   "execution_count": null,
   "metadata": {},
   "outputs": [],
   "source": []
  }
 ],
 "metadata": {
  "kernelspec": {
   "display_name": "Python 3",
   "language": "python",
   "name": "python3"
  },
  "language_info": {
   "codemirror_mode": {
    "name": "ipython",
    "version": 3
   },
   "file_extension": ".py",
   "mimetype": "text/x-python",
   "name": "python",
   "nbconvert_exporter": "python",
   "pygments_lexer": "ipython3",
   "version": "3.6.9"
  }
 },
 "nbformat": 4,
 "nbformat_minor": 2
}
