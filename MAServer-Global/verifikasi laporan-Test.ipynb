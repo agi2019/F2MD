{
 "cells": [
  {
   "cell_type": "code",
   "execution_count": 13,
   "metadata": {},
   "outputs": [
    {
     "ename": "ImportError",
     "evalue": "cannot import name 'generator_secp256k1'",
     "output_type": "error",
     "traceback": [
      "\u001b[1;31m---------------------------------------------------------------------------\u001b[0m",
      "\u001b[1;31mImportError\u001b[0m                               Traceback (most recent call last)",
      "\u001b[1;32m<ipython-input-13-37e071c8a182>\u001b[0m in \u001b[0;36m<module>\u001b[1;34m\u001b[0m\n\u001b[1;32m----> 1\u001b[1;33m \u001b[1;32mfrom\u001b[0m \u001b[0mpycoin\u001b[0m\u001b[1;33m.\u001b[0m\u001b[0mecdsa\u001b[0m \u001b[1;32mimport\u001b[0m \u001b[0mgenerator_secp256k1\u001b[0m\u001b[1;33m,\u001b[0m \u001b[0msign\u001b[0m\u001b[1;33m,\u001b[0m \u001b[0mverify\u001b[0m\u001b[1;33m\u001b[0m\u001b[1;33m\u001b[0m\u001b[0m\n\u001b[0m\u001b[0;32m      2\u001b[0m \u001b[1;32mimport\u001b[0m \u001b[0mhashlib\u001b[0m\u001b[1;33m,\u001b[0m \u001b[0msecrets\u001b[0m\u001b[1;33m\u001b[0m\u001b[1;33m\u001b[0m\u001b[0m\n\u001b[0;32m      3\u001b[0m \u001b[1;33m\u001b[0m\u001b[0m\n\u001b[0;32m      4\u001b[0m \u001b[1;32mdef\u001b[0m \u001b[0msha3_256Hash\u001b[0m\u001b[1;33m(\u001b[0m\u001b[0mmsg\u001b[0m\u001b[1;33m)\u001b[0m\u001b[1;33m:\u001b[0m\u001b[1;33m\u001b[0m\u001b[1;33m\u001b[0m\u001b[0m\n\u001b[0;32m      5\u001b[0m     \u001b[0mhashBytes\u001b[0m \u001b[1;33m=\u001b[0m \u001b[0mhashlib\u001b[0m\u001b[1;33m.\u001b[0m\u001b[0msha3_256\u001b[0m\u001b[1;33m(\u001b[0m\u001b[0mmsg\u001b[0m\u001b[1;33m.\u001b[0m\u001b[0mencode\u001b[0m\u001b[1;33m(\u001b[0m\u001b[1;34m\"utf8\"\u001b[0m\u001b[1;33m)\u001b[0m\u001b[1;33m)\u001b[0m\u001b[1;33m.\u001b[0m\u001b[0mdigest\u001b[0m\u001b[1;33m(\u001b[0m\u001b[1;33m)\u001b[0m\u001b[1;33m\u001b[0m\u001b[1;33m\u001b[0m\u001b[0m\n",
      "\u001b[1;31mImportError\u001b[0m: cannot import name 'generator_secp256k1'"
     ]
    }
   ],
   "source": [
    "from pycoin.ecdsa import generator_secp256k1, sign, verify\n",
    "import hashlib, secrets\n",
    "\n",
    "def sha3_256Hash(msg):\n",
    "    hashBytes = hashlib.sha3_256(msg.encode(\"utf8\")).digest()\n",
    "    return int.from_bytes(hashBytes, byteorder=\"big\")\n",
    "\n",
    "def signECDSAsecp256k1(msg, privKey):\n",
    "    msgHash = sha3_256Hash(msg)\n",
    "    signature = sign(generator_secp256k1, privKey, msgHash)\n",
    "    return signature\n",
    "\n",
    "def verifyECDSAsecp256k1(msg, signature, pubKey):\n",
    "    msgHash = sha3_256Hash(msg)\n",
    "    valid = verify(generator_secp256k1, pubKey, msgHash, signature)\n",
    "    return valid"
   ]
  },
  {
   "cell_type": "code",
   "execution_count": 2,
   "metadata": {},
   "outputs": [
    {
     "ename": "NameError",
     "evalue": "name 'secrets' is not defined",
     "output_type": "error",
     "traceback": [
      "\u001b[1;31m---------------------------------------------------------------------------\u001b[0m",
      "\u001b[1;31mNameError\u001b[0m                                 Traceback (most recent call last)",
      "\u001b[1;32m<ipython-input-2-665006e6c0fd>\u001b[0m in \u001b[0;36m<module>\u001b[1;34m\u001b[0m\n\u001b[0;32m      1\u001b[0m \u001b[1;31m# ECDSA sign message (using the curve secp256k1 + SHA3-256)\u001b[0m\u001b[1;33m\u001b[0m\u001b[1;33m\u001b[0m\u001b[1;33m\u001b[0m\u001b[0m\n\u001b[0;32m      2\u001b[0m \u001b[0mmsg\u001b[0m \u001b[1;33m=\u001b[0m \u001b[1;34m\"Message for ECDSA signing\"\u001b[0m\u001b[1;33m\u001b[0m\u001b[1;33m\u001b[0m\u001b[0m\n\u001b[1;32m----> 3\u001b[1;33m \u001b[0mprivKey\u001b[0m \u001b[1;33m=\u001b[0m \u001b[0msecrets\u001b[0m\u001b[1;33m.\u001b[0m\u001b[0mrandbelow\u001b[0m\u001b[1;33m(\u001b[0m\u001b[0mgenerator_secp256k1\u001b[0m\u001b[1;33m.\u001b[0m\u001b[0morder\u001b[0m\u001b[1;33m(\u001b[0m\u001b[1;33m)\u001b[0m\u001b[1;33m)\u001b[0m\u001b[1;33m\u001b[0m\u001b[1;33m\u001b[0m\u001b[0m\n\u001b[0m\u001b[0;32m      4\u001b[0m \u001b[0msignature\u001b[0m \u001b[1;33m=\u001b[0m \u001b[0msignECDSAsecp256k1\u001b[0m\u001b[1;33m(\u001b[0m\u001b[0mmsg\u001b[0m\u001b[1;33m,\u001b[0m \u001b[0mprivKey\u001b[0m\u001b[1;33m)\u001b[0m\u001b[1;33m\u001b[0m\u001b[1;33m\u001b[0m\u001b[0m\n\u001b[0;32m      5\u001b[0m \u001b[0mprint\u001b[0m\u001b[1;33m(\u001b[0m\u001b[1;34m\"Message:\"\u001b[0m\u001b[1;33m,\u001b[0m \u001b[0mmsg\u001b[0m\u001b[1;33m)\u001b[0m\u001b[1;33m\u001b[0m\u001b[1;33m\u001b[0m\u001b[0m\n",
      "\u001b[1;31mNameError\u001b[0m: name 'secrets' is not defined"
     ]
    }
   ],
   "source": [
    "# ECDSA sign message (using the curve secp256k1 + SHA3-256)\n",
    "msg = \"Message for ECDSA signing\"\n",
    "privKey = secrets.randbelow(generator_secp256k1.order())\n",
    "signature = signECDSAsecp256k1(msg, privKey)\n",
    "print(\"Message:\", msg)\n",
    "print(\"Private key:\", hex(privKey))\n",
    "print(\"Signature: r=\" + hex(signature[0]) + \", s=\" + hex(signature[1]))\n",
    "\n",
    "# ECDSA verify signature (using the curve secp256k1 + SHA3-256)\n",
    "pubKey = (generator_secp256k1 * privKey).pair()\n",
    "valid = verifyECDSAsecp256k1(msg, signature, pubKey)\n",
    "print(\"\\nMessage:\", msg)\n",
    "print(\"Public key: (\" + hex(pubKey[0]) + \", \" + hex(pubKey[1]) + \")\")\n",
    "print(\"Signature valid?\", valid)\n",
    "\n",
    "# ECDSA verify tampered signature (using the curve secp256k1 + SHA3-256)\n",
    "msg = \"Tampered message\"\n",
    "valid = verifyECDSAsecp256k1(msg, signature, pubKey)\n",
    "print(\"\\nMessage:\", msg)\n",
    "print(\"Signature (tampered msg) valid?\", valid)"
   ]
  },
  {
   "cell_type": "code",
   "execution_count": 15,
   "metadata": {
    "scrolled": false
   },
   "outputs": [],
   "source": [
    "import Crypto\n",
    "from Crypto.PublicKey import RSA\n",
    "from Crypto import Random\n",
    "import base64\n",
    "\n",
    "def rsakeys():  \n",
    "     length=1024  \n",
    "     privatekey = RSA.generate(length, Random.new().read)  \n",
    "     publickey = privatekey.publickey()  \n",
    "     return privatekey, publickey\n",
    "\n",
    "def sign1(privatekey,data):\n",
    "    return base64.b64encode(str((privatekey.sign(data,''))[0]).encode())\n",
    "\n",
    "def verify1(publickey,data,sign):\n",
    "     return publickey.verify(data,(int(base64.b64decode(sign)),))"
   ]
  },
  {
   "cell_type": "code",
   "execution_count": 16,
   "metadata": {},
   "outputs": [
    {
     "name": "stdout",
     "output_type": "stream",
     "text": [
      "Private RSA key at 0x21DC710B4E0\n",
      "Public RSA key at 0x21DC7055BE0\n"
     ]
    }
   ],
   "source": [
    "privatekey,publickey=rsakeys()\n",
    "print(privatekey)\n",
    "print(publickey)"
   ]
  },
  {
   "cell_type": "code",
   "execution_count": 18,
   "metadata": {},
   "outputs": [
    {
     "name": "stdout",
     "output_type": "stream",
     "text": [
      "Private RSA key at 0x21DC710B4E0\n",
      "Public RSA key at 0x21DC7055BE0\n"
     ]
    },
    {
     "ename": "NotImplementedError",
     "evalue": "Use module Crypto.Signature.pkcs1_15 instead",
     "output_type": "error",
     "traceback": [
      "\u001b[1;31m---------------------------------------------------------------------------\u001b[0m",
      "\u001b[1;31mNotImplementedError\u001b[0m                       Traceback (most recent call last)",
      "\u001b[1;32m<ipython-input-18-834cc3b51152>\u001b[0m in \u001b[0;36m<module>\u001b[1;34m\u001b[0m\n\u001b[0;32m     13\u001b[0m     \u001b[0mhashing\u001b[0m\u001b[1;33m=\u001b[0m\u001b[0mhasher\u001b[0m\u001b[1;33m.\u001b[0m\u001b[0mhexdigest\u001b[0m\u001b[1;33m(\u001b[0m\u001b[1;33m)\u001b[0m\u001b[1;33m\u001b[0m\u001b[1;33m\u001b[0m\u001b[0m\n\u001b[0;32m     14\u001b[0m     \u001b[0mhashing\u001b[0m\u001b[1;33m=\u001b[0m\u001b[1;34m\"nono\"\u001b[0m\u001b[1;33m\u001b[0m\u001b[1;33m\u001b[0m\u001b[0m\n\u001b[1;32m---> 15\u001b[1;33m \u001b[0msignature\u001b[0m \u001b[1;33m=\u001b[0m \u001b[0msign1\u001b[0m\u001b[1;33m(\u001b[0m\u001b[0mprivatekey\u001b[0m\u001b[1;33m,\u001b[0m\u001b[0mhashing\u001b[0m\u001b[1;33m)\u001b[0m\u001b[1;33m\u001b[0m\u001b[1;33m\u001b[0m\u001b[0m\n\u001b[0m\u001b[0;32m     16\u001b[0m \u001b[1;33m\u001b[0m\u001b[0m\n\u001b[0;32m     17\u001b[0m \u001b[0mf\u001b[0m\u001b[1;33m=\u001b[0m \u001b[0mopen\u001b[0m\u001b[1;33m(\u001b[0m\u001b[1;34m\"MDReport_V2_26-5387_10452_10331.sign\"\u001b[0m\u001b[1;33m,\u001b[0m\u001b[1;34m\"w+\"\u001b[0m\u001b[1;33m)\u001b[0m\u001b[1;33m\u001b[0m\u001b[1;33m\u001b[0m\u001b[0m\n",
      "\u001b[1;32m<ipython-input-15-9a8ab6191283>\u001b[0m in \u001b[0;36msign1\u001b[1;34m(privatekey, data)\u001b[0m\n\u001b[0;32m     11\u001b[0m \u001b[1;33m\u001b[0m\u001b[0m\n\u001b[0;32m     12\u001b[0m \u001b[1;32mdef\u001b[0m \u001b[0msign1\u001b[0m\u001b[1;33m(\u001b[0m\u001b[0mprivatekey\u001b[0m\u001b[1;33m,\u001b[0m\u001b[0mdata\u001b[0m\u001b[1;33m)\u001b[0m\u001b[1;33m:\u001b[0m\u001b[1;33m\u001b[0m\u001b[1;33m\u001b[0m\u001b[0m\n\u001b[1;32m---> 13\u001b[1;33m     \u001b[1;32mreturn\u001b[0m \u001b[0mbase64\u001b[0m\u001b[1;33m.\u001b[0m\u001b[0mb64encode\u001b[0m\u001b[1;33m(\u001b[0m\u001b[0mstr\u001b[0m\u001b[1;33m(\u001b[0m\u001b[1;33m(\u001b[0m\u001b[0mprivatekey\u001b[0m\u001b[1;33m.\u001b[0m\u001b[0msign\u001b[0m\u001b[1;33m(\u001b[0m\u001b[0mdata\u001b[0m\u001b[1;33m,\u001b[0m\u001b[1;34m''\u001b[0m\u001b[1;33m)\u001b[0m\u001b[1;33m)\u001b[0m\u001b[1;33m[\u001b[0m\u001b[1;36m0\u001b[0m\u001b[1;33m]\u001b[0m\u001b[1;33m)\u001b[0m\u001b[1;33m.\u001b[0m\u001b[0mencode\u001b[0m\u001b[1;33m(\u001b[0m\u001b[1;33m)\u001b[0m\u001b[1;33m)\u001b[0m\u001b[1;33m\u001b[0m\u001b[1;33m\u001b[0m\u001b[0m\n\u001b[0m\u001b[0;32m     14\u001b[0m \u001b[1;33m\u001b[0m\u001b[0m\n\u001b[0;32m     15\u001b[0m \u001b[1;32mdef\u001b[0m \u001b[0mverify1\u001b[0m\u001b[1;33m(\u001b[0m\u001b[0mpublickey\u001b[0m\u001b[1;33m,\u001b[0m\u001b[0mdata\u001b[0m\u001b[1;33m,\u001b[0m\u001b[0msign\u001b[0m\u001b[1;33m)\u001b[0m\u001b[1;33m:\u001b[0m\u001b[1;33m\u001b[0m\u001b[1;33m\u001b[0m\u001b[0m\n",
      "\u001b[1;32m~\\Anaconda3\\envs\\agria_env\\lib\\site-packages\\Crypto\\PublicKey\\RSA.py\u001b[0m in \u001b[0;36msign\u001b[1;34m(self, M, K)\u001b[0m\n\u001b[0;32m    364\u001b[0m     \u001b[1;31m# Methods defined in PyCrypto that we don't support anymore\u001b[0m\u001b[1;33m\u001b[0m\u001b[1;33m\u001b[0m\u001b[1;33m\u001b[0m\u001b[0m\n\u001b[0;32m    365\u001b[0m     \u001b[1;32mdef\u001b[0m \u001b[0msign\u001b[0m\u001b[1;33m(\u001b[0m\u001b[0mself\u001b[0m\u001b[1;33m,\u001b[0m \u001b[0mM\u001b[0m\u001b[1;33m,\u001b[0m \u001b[0mK\u001b[0m\u001b[1;33m)\u001b[0m\u001b[1;33m:\u001b[0m\u001b[1;33m\u001b[0m\u001b[1;33m\u001b[0m\u001b[0m\n\u001b[1;32m--> 366\u001b[1;33m         \u001b[1;32mraise\u001b[0m \u001b[0mNotImplementedError\u001b[0m\u001b[1;33m(\u001b[0m\u001b[1;34m\"Use module Crypto.Signature.pkcs1_15 instead\"\u001b[0m\u001b[1;33m)\u001b[0m\u001b[1;33m\u001b[0m\u001b[1;33m\u001b[0m\u001b[0m\n\u001b[0m\u001b[0;32m    367\u001b[0m \u001b[1;33m\u001b[0m\u001b[0m\n\u001b[0;32m    368\u001b[0m     \u001b[1;32mdef\u001b[0m \u001b[0mverify\u001b[0m\u001b[1;33m(\u001b[0m\u001b[0mself\u001b[0m\u001b[1;33m,\u001b[0m \u001b[0mM\u001b[0m\u001b[1;33m,\u001b[0m \u001b[0msignature\u001b[0m\u001b[1;33m)\u001b[0m\u001b[1;33m:\u001b[0m\u001b[1;33m\u001b[0m\u001b[1;33m\u001b[0m\u001b[0m\n",
      "\u001b[1;31mNotImplementedError\u001b[0m: Use module Crypto.Signature.pkcs1_15 instead"
     ]
    }
   ],
   "source": [
    "import hashlib\n",
    "\n",
    "print(privatekey)\n",
    "print(publickey)\n",
    "\n",
    "BLOCKSIZE = 65536\n",
    "hasher = hashlib.sha1()\n",
    "with open('MDReport_V2_26-5387_10452_10331.rep', 'rb') as reports:\n",
    "    buf = reports.read(BLOCKSIZE)\n",
    "    while len(buf) > 0:\n",
    "        hasher.update(buf)\n",
    "        buf = reports.read(BLOCKSIZE)\n",
    "    hashing=hasher.hexdigest()\n",
    "    hashing=\"nono\"\n",
    "signature = sign1(privatekey,hashing)\n",
    "\n",
    "f= open(\"MDReport_V2_26-5387_10452_10331.sign\",\"w+\")\n",
    "f.write(signature)"
   ]
  },
  {
   "cell_type": "code",
   "execution_count": null,
   "metadata": {},
   "outputs": [],
   "source": [
    "f=open(\"gMDReport_V2_26-5387_10452_10331.sign\", \"r\")\n",
    "receiveSign =f.read()\n",
    "\n",
    "with open('MDReport_V2_26-5387_10452_10331.sign', 'rb') as signedReport:\n",
    "    buf1 = signedReport.read(BLOCKSIZE)\n",
    "    while len(buf1) > 0:\n",
    "        hasher1.update(buf1)\n",
    "        buf1 = signedReport.read(BLOCKSIZE)\n",
    "veirifikasi = verify1(publickey,hasher1.hexdigest(),receiveSign)"
   ]
  },
  {
   "cell_type": "code",
   "execution_count": 5,
   "metadata": {},
   "outputs": [
    {
     "name": "stdout",
     "output_type": "stream",
     "text": [
      "EvidenceReport\n"
     ]
    }
   ],
   "source": [
    "#Read Data File\n",
    "import json\n",
    "\n",
    "# open output file for reading\n",
    "with open('MDReport_V2_26-5387_10452_10331.rep', 'r') as filehandle:\n",
    "    reportList = json.load(filehandle)\n",
    "    print(reportList['Report']['Metadata']['reportType'])"
   ]
  },
  {
   "cell_type": "code",
   "execution_count": 19,
   "metadata": {},
   "outputs": [
    {
     "ename": "ModuleNotFoundError",
     "evalue": "No module named 'gmpy2'",
     "output_type": "error",
     "traceback": [
      "\u001b[1;31m---------------------------------------------------------------------------\u001b[0m",
      "\u001b[1;31mModuleNotFoundError\u001b[0m                       Traceback (most recent call last)",
      "\u001b[1;32m<ipython-input-19-e690cf6e87b9>\u001b[0m in \u001b[0;36m<module>\u001b[1;34m\u001b[0m\n\u001b[0;32m      2\u001b[0m \u001b[1;32mfrom\u001b[0m \u001b[0mCrypto\u001b[0m \u001b[1;32mimport\u001b[0m \u001b[0mRandom\u001b[0m\u001b[1;33m\u001b[0m\u001b[1;33m\u001b[0m\u001b[0m\n\u001b[0;32m      3\u001b[0m \u001b[1;32mimport\u001b[0m \u001b[0mCrypto\u001b[0m\u001b[1;33m\u001b[0m\u001b[1;33m\u001b[0m\u001b[0m\n\u001b[1;32m----> 4\u001b[1;33m \u001b[1;32mimport\u001b[0m \u001b[0mgmpy2\u001b[0m\u001b[1;33m\u001b[0m\u001b[1;33m\u001b[0m\u001b[0m\n\u001b[0m\u001b[0;32m      5\u001b[0m \u001b[1;32mimport\u001b[0m \u001b[0msys\u001b[0m\u001b[1;33m\u001b[0m\u001b[1;33m\u001b[0m\u001b[0m\n\u001b[0;32m      6\u001b[0m \u001b[0mbits\u001b[0m\u001b[1;33m=\u001b[0m\u001b[1;36m60\u001b[0m\u001b[1;33m\u001b[0m\u001b[1;33m\u001b[0m\u001b[0m\n",
      "\u001b[1;31mModuleNotFoundError\u001b[0m: No module named 'gmpy2'"
     ]
    }
   ],
   "source": [
    "from Crypto.Util.number import *\n",
    "from Crypto import Random\n",
    "import Crypto\n",
    "import gmpy2\n",
    "import sys\n",
    "bits=60\n",
    "msg=\"Hello\"\n",
    "if (len(sys.argv)>1):\n",
    "        msg=str(sys.argv[1])\n",
    "if (len(sys.argv)>2):\n",
    "        bits=int(sys.argv[2])\n",
    "p = Crypto.Util.number.getPrime(bits, randfunc=Crypto.Random.get_random_bytes)\n",
    "q = Crypto.Util.number.getPrime(bits, randfunc=Crypto.Random.get_random_bytes)\n",
    "n = p*q\n",
    "PHI=(p-1)*(q-1)\n",
    "v=65537\n",
    "s=(gmpy2.invert(v, PHI))\n",
    "D=  bytes_to_long(msg.encode('utf-8'))\n",
    "S=pow(D,s, n)\n",
    "res=pow(S,v ,n)\n",
    "print (msg,p,q,s,v,n,D,(long_to_bytes(res)))"
   ]
  },
  {
   "cell_type": "code",
   "execution_count": 25,
   "metadata": {},
   "outputs": [
    {
     "name": "stdout",
     "output_type": "stream",
     "text": [
      "verified\n"
     ]
    }
   ],
   "source": [
    "from ecdsa import SigningKey\n",
    "sk = SigningKey.generate() # uses NIST192p\n",
    "vk = sk.verifying_key\n",
    "signature = sk.sign(b\"message\")\n",
    "state = vk.verify(signature, b\"message\")\n",
    "\n",
    "if(state):\n",
    "    print(\"verified\")\n",
    "\n"
   ]
  },
  {
   "cell_type": "code",
   "execution_count": null,
   "metadata": {},
   "outputs": [],
   "source": []
  },
  {
   "cell_type": "code",
   "execution_count": null,
   "metadata": {},
   "outputs": [],
   "source": []
  }
 ],
 "metadata": {
  "kernelspec": {
   "display_name": "Python 3",
   "language": "python",
   "name": "python3"
  },
  "language_info": {
   "codemirror_mode": {
    "name": "ipython",
    "version": 3
   },
   "file_extension": ".py",
   "mimetype": "text/x-python",
   "name": "python",
   "nbconvert_exporter": "python",
   "pygments_lexer": "ipython3",
   "version": "3.6.9"
  }
 },
 "nbformat": 4,
 "nbformat_minor": 2
}
