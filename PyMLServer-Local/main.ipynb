{
 "cells": [
  {
   "cell_type": "code",
   "execution_count": 1,
   "metadata": {},
   "outputs": [
    {
     "name": "stdout",
     "output_type": "stream",
     "text": [
      "classifier_name nne\n",
      "\tarchive_name TSC\n",
      "\t\titer 0\n",
      "\t\t\tdataset_name:  SonyAIBORobotSurface\n"
     ]
    },
    {
     "name": "stderr",
     "output_type": "stream",
     "text": [
      "Using TensorFlow backend.\n"
     ]
    },
    {
     "name": "stdout",
     "output_type": "stream",
     "text": [
      "\t\t\t\tDONE\n",
      "\t\t\tdataset_name:  SonyAIBORobotSurfaceII\n",
      "\t\t\t\tDONE\n",
      "\t\t\tdataset_name:  Car\n"
     ]
    },
    {
     "name": "stderr",
     "output_type": "stream",
     "text": [
      "/home/aimachine/anaconda3/envs/aicondaenv/lib/python3.6/site-packages/sklearn/metrics/classification.py:1143: UndefinedMetricWarning: Precision is ill-defined and being set to 0.0 in labels with no predicted samples.\n",
      "  'precision', 'predicted', average, warn_for)\n"
     ]
    },
    {
     "name": "stdout",
     "output_type": "stream",
     "text": [
      "\t\t\t\tDONE\n",
      "\t\t\tdataset_name:  ProximalPhalanxOutlineAgeGroup\n"
     ]
    },
    {
     "name": "stderr",
     "output_type": "stream",
     "text": [
      "/home/aimachine/anaconda3/envs/aicondaenv/lib/python3.6/site-packages/sklearn/metrics/classification.py:1143: UndefinedMetricWarning: Precision is ill-defined and being set to 0.0 in labels with no predicted samples.\n",
      "  'precision', 'predicted', average, warn_for)\n"
     ]
    },
    {
     "name": "stdout",
     "output_type": "stream",
     "text": [
      "\t\t\t\tDONE\n",
      "\t\t\tdataset_name:  50words\n",
      "\t\t\t\tDONE\n"
     ]
    },
    {
     "name": "stderr",
     "output_type": "stream",
     "text": [
      "/home/aimachine/anaconda3/envs/aicondaenv/lib/python3.6/site-packages/sklearn/metrics/classification.py:1143: UndefinedMetricWarning: Precision is ill-defined and being set to 0.0 in labels with no predicted samples.\n",
      "  'precision', 'predicted', average, warn_for)\n"
     ]
    }
   ],
   "source": [
    "from utils.constants import UNIVARIATE_ARCHIVE_NAMES  as ARCHIVE_NAMES\n",
    "from utils.constants import CLASSIFIERS\n",
    "from utils.constants import UNIVARIATE_DATASET_NAMES as DATASET_NAMES\n",
    "from utils.constants import ITERATIONS\n",
    "import sys\n",
    "from utils.utils import read_all_datasets\n",
    "from utils.utils import transform_labels\n",
    "from utils.utils import create_directory\n",
    "\n",
    "import numpy as np\n",
    "import sklearn \n",
    "\n",
    "def prepare_data():\n",
    "    x_train = datasets_dict[dataset_name][0]\n",
    "    y_train = datasets_dict[dataset_name][1]\n",
    "    x_test = datasets_dict[dataset_name][2]\n",
    "    y_test = datasets_dict[dataset_name][3]\n",
    "\n",
    "    nb_classes = len(np.unique(np.concatenate((y_train, y_test), axis=0)))\n",
    "\n",
    "    # make the min to zero of labels\n",
    "    y_train, y_test = transform_labels(y_train, y_test)\n",
    "\n",
    "    # save orignal y because later we will use binary\n",
    "    y_true = y_test.astype(np.int64)\n",
    "    y_true_train = y_train.astype(np.int64)\n",
    "    # transform the labels from integers to one hot vectors\n",
    "    enc = sklearn.preprocessing.OneHotEncoder(categories='auto')\n",
    "    enc.fit(np.concatenate((y_train, y_test), axis=0).reshape(-1, 1))\n",
    "    y_train = enc.transform(y_train.reshape(-1, 1)).toarray()\n",
    "    y_test = enc.transform(y_test.reshape(-1, 1)).toarray()\n",
    "\n",
    "    if len(x_train.shape) == 2:  # if univariate\n",
    "        # add a dimension to make it multivariate with one dimension\n",
    "        x_train = x_train.reshape((x_train.shape[0], x_train.shape[1], 1))\n",
    "        x_test = x_test.reshape((x_test.shape[0], x_test.shape[1], 1))\n",
    "\n",
    "    return x_train, y_train, x_test, y_test,y_true, nb_classes,y_true_train, enc\n",
    "\n",
    "def fit_classifier(load_weights=False):\n",
    "\n",
    "    input_shape = x_train.shape[1:]\n",
    "\n",
    "    classifier = create_classifier(classifier_name,input_shape, nb_classes, output_directory\n",
    "                                   ,load_weights=load_weights)\n",
    "\n",
    "    classifier.fit(x_train,y_train,x_test,y_test, y_true)\n",
    "\n",
    "def create_classifier(classifier_name, input_shape, nb_classes, output_directory, verbose = False,\n",
    "                      build=True,load_weights=False):\n",
    "    if classifier_name=='fcn': \n",
    "        from classifiers import fcn        \n",
    "        return fcn.Classifier_FCN(output_directory,input_shape, nb_classes, verbose,build=build)\n",
    "    if classifier_name=='mlp':\n",
    "        from  classifiers import  mlp \n",
    "        return mlp.Classifier_MLP(output_directory,input_shape, nb_classes, verbose,build=build)\n",
    "    if classifier_name=='resnet':\n",
    "        from  classifiers import resnet \n",
    "        return resnet.Classifier_RESNET(output_directory,input_shape, nb_classes, verbose,\n",
    "                                        build=build,load_weights=load_weights)\n",
    "    if classifier_name=='encoder':\n",
    "        from classifiers import encoder\n",
    "        return encoder.Classifier_ENCODER(output_directory,input_shape, nb_classes, verbose,build=build)\n",
    "    if classifier_name=='mcdcnn':\n",
    "        from classifiers import mcdcnn\n",
    "        return mcdcnn.Classifier_MCDCNN(output_directory,input_shape, nb_classes, verbose,build=build)\n",
    "    if classifier_name=='cnn':\n",
    "        from classifiers import cnn\n",
    "        return cnn.Classifier_CNN(output_directory,input_shape, nb_classes, verbose,build=build)\n",
    "    if classifier_name=='ensembletransfer':\n",
    "        from classifiers import ensembletransfer\n",
    "        return ensembletransfer.Classifier_ENSEMBLETRANSFER(output_directory,input_shape,\n",
    "                                                            nb_classes, verbose)\n",
    "    if classifier_name=='nne':\n",
    "        from classifiers import nne\n",
    "        return nne.Classifier_NNE(output_directory,input_shape,\n",
    "                                                            nb_classes, verbose)\n",
    "\n",
    "root_dir = 'C:\\Users\\Legion\\src\\PyMLServer-Local1'\n",
    "    \n",
    "for classifier_name in CLASSIFIERS:\n",
    "    print('classifier_name',classifier_name)\n",
    "\n",
    "    for archive_name in ARCHIVE_NAMES:\n",
    "        print('\\tarchive_name',archive_name)\n",
    "\n",
    "        datasets_dict = read_all_datasets(root_dir, archive_name)\n",
    "\n",
    "        for iter in range(ITERATIONS):\n",
    "            print('\\t\\titer',iter)\n",
    "\n",
    "            trr = ''\n",
    "            if iter!=0:\n",
    "                trr = '_itr_'+str(iter)\n",
    "\n",
    "            tmp_output_directory = root_dir+'/results/'+classifier_name+'/'+archive_name+trr+'/'\n",
    "\n",
    "            for dataset_name in DATASET_NAMES:\n",
    "                print('\\t\\t\\tdataset_name: ', dataset_name)\n",
    "\n",
    "                x_train, y_train, x_test, y_test, y_true, nb_classes,y_true_train,enc = prepare_data()\n",
    "\n",
    "                output_directory = tmp_output_directory+dataset_name+'/'\n",
    "\n",
    "                if classifier_name!='nne' and classifier_name!='ensembletransfer':\n",
    "\n",
    "                    temp_output_directory = create_directory(output_directory)\n",
    "\n",
    "                    if temp_output_directory  is None:\n",
    "                        print('Already_done',tmp_output_directory,dataset_name)\n",
    "                        continue\n",
    "\n",
    "                fit_classifier()\n",
    "\n",
    "                print('\\t\\t\\t\\tDONE')\n",
    "\n",
    "                if classifier_name!='nne' and classifier_name!='ensembletransfer':\n",
    "\n",
    "                    # the creation of this directory means\n",
    "                    create_directory(output_directory + '/DONE')\n"
   ]
  },
  {
   "cell_type": "code",
   "execution_count": null,
   "metadata": {},
   "outputs": [],
   "source": []
  },
  {
   "cell_type": "code",
   "execution_count": null,
   "metadata": {},
   "outputs": [],
   "source": []
  },
  {
   "cell_type": "code",
   "execution_count": null,
   "metadata": {},
   "outputs": [],
   "source": []
  }
 ],
 "metadata": {
  "kernelspec": {
   "display_name": "Python 3",
   "language": "python",
   "name": "python3"
  },
  "language_info": {
   "codemirror_mode": {
    "name": "ipython",
    "version": 3
   },
   "file_extension": ".py",
   "mimetype": "text/x-python",
   "name": "python",
   "nbconvert_exporter": "python",
   "pygments_lexer": "ipython3",
   "version": "3.6.9"
  }
 },
 "nbformat": 4,
 "nbformat_minor": 2
}
